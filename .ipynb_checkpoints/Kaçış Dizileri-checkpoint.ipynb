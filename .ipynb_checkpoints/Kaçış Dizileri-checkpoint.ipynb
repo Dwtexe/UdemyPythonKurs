{
 "cells": [
  {
   "cell_type": "markdown",
   "metadata": {},
   "source": [
    "# Kaçış Dizileri"
   ]
  },
  {
   "cell_type": "markdown",
   "metadata": {},
   "source": [
    "## Alt satır başı:"
   ]
  },
  {
   "cell_type": "code",
   "execution_count": 1,
   "metadata": {},
   "outputs": [
    {
     "name": "stdout",
     "output_type": "stream",
     "text": [
      "Hello\n",
      "World\n"
     ]
    }
   ],
   "source": [
    "print(\"Hello\\nWorld\") # \\n kaçış dizisi ile alt satıra geçiliyor"
   ]
  },
  {
   "cell_type": "markdown",
   "metadata": {},
   "source": [
    "## Düşey sekme:"
   ]
  },
  {
   "cell_type": "code",
   "execution_count": 2,
   "metadata": {},
   "outputs": [
    {
     "name": "stdout",
     "output_type": "stream",
     "text": [
      "Hello\u000b",
      "World\n"
     ]
    }
   ],
   "source": [
    "print(\"Hello\\vWorld\") # \\v düşey sekme kaçış dizisi"
   ]
  },
  {
   "cell_type": "markdown",
   "metadata": {},
   "source": [
    "Notebook üzerinde görünmesede terminal üzerinde etkisi görünecektir."
   ]
  },
  {
   "cell_type": "markdown",
   "metadata": {},
   "source": [
    "## İmleci sola kaydırma:"
   ]
  },
  {
   "cell_type": "code",
   "execution_count": 5,
   "metadata": {},
   "outputs": [
    {
     "name": "stdout",
     "output_type": "stream",
     "text": [
      "www.google.com\bdeneme\n"
     ]
    }
   ],
   "source": [
    "print(\"www.google.com\\bdeneme\") # \\b kaçış dizi ile imleç bir birim sola kaydırıldı. Bu sayede 'm' harfi yok oldu."
   ]
  },
  {
   "cell_type": "markdown",
   "metadata": {},
   "source": [
    "## Unicode"
   ]
  },
  {
   "cell_type": "markdown",
   "metadata": {},
   "source": [
    "UNICODE, karakterlerin, harflerin, sayıların ve bilgisayar ekranında gördüğümüz\n",
    "öteki bütün işaretlerin her biri için tek ve benzersiz bir numaranın tanımlandığı bir sistemdir.\n",
    "Bu sistemde, ‘kod konumu’ (code point ) adı verilen bu numaralar özel bir şekilde gösterilir.\n",
    "Örneğin ‘ı’ harfi UNICODE sisteminde şu şekilde temsil edilir:"
   ]
  },
  {
   "cell_type": "code",
   "execution_count": 6,
   "metadata": {
    "collapsed": true
   },
   "outputs": [],
   "source": [
    "#u+0131"
   ]
  },
  {
   "cell_type": "markdown",
   "metadata": {},
   "source": [
    "Python programlama dilinde ise, yukarıdaki kod konumu düzeni şöyle gösterilir:"
   ]
  },
  {
   "cell_type": "code",
   "execution_count": 7,
   "metadata": {
    "collapsed": true
   },
   "outputs": [],
   "source": [
    "#\\u0131"
   ]
  },
  {
   "cell_type": "code",
   "execution_count": 8,
   "metadata": {},
   "outputs": [
    {
     "name": "stdout",
     "output_type": "stream",
     "text": [
      "ı\n"
     ]
    }
   ],
   "source": [
    "print(\"\\u0131\")"
   ]
  },
  {
   "cell_type": "markdown",
   "metadata": {},
   "source": [
    "Gördüğünüz gibi, Python UNICODE sistemindeki her bir kod konumunu gösterebilmek için,\n",
    "önce \\u şeklinde bir kaçış dizisi tanımlıyor, ardından UNICODE sisteminde + işaretinden sonra\n",
    "gelen sayıyı bu kaçış dizisinin hemen sağına ekliyor."
   ]
  },
  {
   "cell_type": "markdown",
   "metadata": {},
   "source": [
    "## Etkisizleştirme"
   ]
  },
  {
   "cell_type": "code",
   "execution_count": 9,
   "metadata": {},
   "outputs": [
    {
     "name": "stdout",
     "output_type": "stream",
     "text": [
      "ı\n",
      "\\u0131\n"
     ]
    }
   ],
   "source": [
    "print(\"\\u0131\")\n",
    "print(r\"\\u0131\")"
   ]
  },
  {
   "cell_type": "markdown",
   "metadata": {},
   "source": [
    "Görüldüğü gibi string ifadenin soluna 'r' karakteri koyulduğunda kaçış dizileri etkisiz hale geliyor."
   ]
  }
 ],
 "metadata": {
  "kernelspec": {
   "display_name": "Python 3",
   "language": "python",
   "name": "python3"
  },
  "language_info": {
   "codemirror_mode": {
    "name": "ipython",
    "version": 3
   },
   "file_extension": ".py",
   "mimetype": "text/x-python",
   "name": "python",
   "nbconvert_exporter": "python",
   "pygments_lexer": "ipython3",
   "version": "3.5.3"
  }
 },
 "nbformat": 4,
 "nbformat_minor": 2
}
