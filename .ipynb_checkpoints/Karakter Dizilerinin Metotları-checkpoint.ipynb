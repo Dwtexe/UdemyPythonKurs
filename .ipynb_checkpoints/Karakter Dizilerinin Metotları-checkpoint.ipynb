{
 "cells": [
  {
   "cell_type": "markdown",
   "metadata": {},
   "source": [
    "# Karakter Dizilerinin Metotları"
   ]
  },
  {
   "cell_type": "markdown",
   "metadata": {},
   "source": [
    "## replace()"
   ]
  },
  {
   "cell_type": "code",
   "execution_count": 1,
   "metadata": {},
   "outputs": [
    {
     "name": "stdout",
     "output_type": "stream",
     "text": [
      "Volkan\n"
     ]
    }
   ],
   "source": [
    "string = \"volkan\"\n",
    "string = string.replace(\"v\",\"V\")\n",
    "print(string)"
   ]
  },
  {
   "cell_type": "markdown",
   "metadata": {},
   "source": [
    "Bu metot sayesinde bir string içerisinde istediğimiz karakterler yerine yenilerini koyabiliyoruz."
   ]
  },
  {
   "cell_type": "markdown",
   "metadata": {},
   "source": [
    "## split(), rsplit(), splitlines()"
   ]
  },
  {
   "cell_type": "code",
   "execution_count": 2,
   "metadata": {
    "collapsed": true
   },
   "outputs": [],
   "source": [
    "string = \"İstanbul Büyükşehir Belediyesi\""
   ]
  },
  {
   "cell_type": "code",
   "execution_count": 3,
   "metadata": {},
   "outputs": [
    {
     "name": "stdout",
     "output_type": "stream",
     "text": [
      "['İstanbul', 'Büyükşehir', 'Belediyesi']\n"
     ]
    }
   ],
   "source": [
    "bolunmus = string.split(\" \")\n",
    "print(bolunmus)"
   ]
  },
  {
   "cell_type": "markdown",
   "metadata": {},
   "source": [
    "String ifadeyi, parametre içerisinde verilen öğenin bulunduğu yerlerden böldü."
   ]
  },
  {
   "cell_type": "code",
   "execution_count": 8,
   "metadata": {},
   "outputs": [
    {
     "name": "stdout",
     "output_type": "stream",
     "text": [
      "['İstanbul', 'Büyükşehir Belediyesi']\n",
      "['bu', 'bir', 'denemedir bu bir denemedir']\n"
     ]
    }
   ],
   "source": [
    "bolunmus = string.split(\" \",1)\n",
    "print(bolunmus)\n",
    "string = \"bu bir denemedir bu bir denemedir\"\n",
    "bolunmus = string.split(\" \",2)\n",
    "print(bolunmus)"
   ]
  },
  {
   "cell_type": "markdown",
   "metadata": {},
   "source": [
    "İkinci parametrede kaç kez bölme işlemi uygulanacağını belirleyebiliyoruz. Fakat dikkat edilmesi gereken şey şudur: iki bölme işlemi uygulandığında ortaya üç adet öğe çıkacaktır."
   ]
  },
  {
   "cell_type": "code",
   "execution_count": 7,
   "metadata": {},
   "outputs": [
    {
     "name": "stdout",
     "output_type": "stream",
     "text": [
      "['İstanbul Büyükşehir', 'Belediyesi']\n"
     ]
    }
   ],
   "source": [
    "string = \"İstanbul Büyükşehir Belediyesi\"\n",
    "bolunmus = string.rsplit(\" \",1)\n",
    "print(bolunmus)"
   ]
  },
  {
   "cell_type": "markdown",
   "metadata": {},
   "source": [
    "rsplit() Metodunun tek farkı string ifadeyi sağdan sola doğru okumasıdır."
   ]
  },
  {
   "cell_type": "code",
   "execution_count": 9,
   "metadata": {
    "collapsed": true
   },
   "outputs": [],
   "source": [
    "metin = \"\"\"Python programlama dili Guido Van Rossum adlı Hollandalı bir programcı\n",
    "tarafından 90'lı yılların başında geliştirilmeye başlanmıştır. Çoğu insan, isminin\n",
    "Python olmasına bakarak, bu programlama dilinin, adını piton yılanından aldığını\n",
    "düşünür. Ancak zannedildiğinin aksine bu programlama dilinin adı piton yılanından\n",
    "gelmez. Guido Van Rossum bu programlama dilini, The Monty Python adlı bir İngiliz\n",
    "komedi grubunun, Monty Python's Flying Circus adlı gösterisinden esinlenerek\n",
    "adlandırmıştır. Ancak her ne kadar gerçek böyle olsa da, Python programlama\n",
    "dilinin pek çok yerde bir yılan figürü ile temsil edilmesi neredeyse bir gelenek\n",
    "halini almıştır diyebiliriz.\"\"\""
   ]
  },
  {
   "cell_type": "code",
   "execution_count": 10,
   "metadata": {},
   "outputs": [
    {
     "name": "stdout",
     "output_type": "stream",
     "text": [
      "['Python programlama dili Guido Van Rossum adlı Hollandalı bir programcı', \"tarafından 90'lı yılların başında geliştirilmeye başlanmıştır. Çoğu insan, isminin\", 'Python olmasına bakarak, bu programlama dilinin, adını piton yılanından aldığını', 'düşünür. Ancak zannedildiğinin aksine bu programlama dilinin adı piton yılanından', 'gelmez. Guido Van Rossum bu programlama dilini, The Monty Python adlı bir İngiliz', \"komedi grubunun, Monty Python's Flying Circus adlı gösterisinden esinlenerek\", 'adlandırmıştır. Ancak her ne kadar gerçek böyle olsa da, Python programlama', 'dilinin pek çok yerde bir yılan figürü ile temsil edilmesi neredeyse bir gelenek', 'halini almıştır diyebiliriz.']\n"
     ]
    }
   ],
   "source": [
    "print(metin.splitlines())"
   ]
  },
  {
   "cell_type": "markdown",
   "metadata": {},
   "source": [
    "splitlines() Metodu ile bir metinsel ifadeyi satırlarına bölebiliriz."
   ]
  },
  {
   "cell_type": "markdown",
   "metadata": {},
   "source": [
    "## lower()"
   ]
  },
  {
   "cell_type": "markdown",
   "metadata": {},
   "source": [
    "Büyük harfleri küçük harflere dönüştürmek için kullandığımız bir metot."
   ]
  },
  {
   "cell_type": "code",
   "execution_count": 11,
   "metadata": {},
   "outputs": [
    {
     "name": "stdout",
     "output_type": "stream",
     "text": [
      "bunlar büyüktür\n"
     ]
    }
   ],
   "source": [
    "print(\"BUNLAR BÜYÜKTÜR\".lower())"
   ]
  },
  {
   "cell_type": "markdown",
   "metadata": {},
   "source": [
    "## upper()"
   ]
  },
  {
   "cell_type": "markdown",
   "metadata": {},
   "source": [
    "Küçük harfleri büyük yazdırmak için kullanılır."
   ]
  },
  {
   "cell_type": "code",
   "execution_count": 12,
   "metadata": {},
   "outputs": [
    {
     "name": "stdout",
     "output_type": "stream",
     "text": [
      "KÜÇÜK HARFLER\n"
     ]
    }
   ],
   "source": [
    "print(\"küçük harfler\".upper())"
   ]
  },
  {
   "cell_type": "markdown",
   "metadata": {},
   "source": [
    "## islower()"
   ]
  },
  {
   "cell_type": "markdown",
   "metadata": {},
   "source": [
    "Karakter dizisi içerisinde hiç büyük harf yer almıyorsa True döndürür."
   ]
  },
  {
   "cell_type": "code",
   "execution_count": 13,
   "metadata": {},
   "outputs": [
    {
     "name": "stdout",
     "output_type": "stream",
     "text": [
      "True\n"
     ]
    }
   ],
   "source": [
    "print(\"küçük harfler\".islower())"
   ]
  },
  {
   "cell_type": "code",
   "execution_count": 14,
   "metadata": {},
   "outputs": [
    {
     "name": "stdout",
     "output_type": "stream",
     "text": [
      "False\n"
     ]
    }
   ],
   "source": [
    "print(\"Küçük mü\".islower())"
   ]
  },
  {
   "cell_type": "markdown",
   "metadata": {},
   "source": [
    "Bir tane dahi büyük harf var ise False döndürür."
   ]
  },
  {
   "cell_type": "markdown",
   "metadata": {},
   "source": [
    "## isupper()"
   ]
  },
  {
   "cell_type": "markdown",
   "metadata": {},
   "source": [
    "islower() Metodunun tam tersi görev görür."
   ]
  },
  {
   "cell_type": "code",
   "execution_count": 15,
   "metadata": {},
   "outputs": [
    {
     "name": "stdout",
     "output_type": "stream",
     "text": [
      "False\n"
     ]
    }
   ],
   "source": [
    "print(\"küçük harfler\".isupper())"
   ]
  },
  {
   "cell_type": "code",
   "execution_count": 16,
   "metadata": {},
   "outputs": [
    {
     "name": "stdout",
     "output_type": "stream",
     "text": [
      "True\n"
     ]
    }
   ],
   "source": [
    "print(\"BÜYÜK HARFLER\".isupper())"
   ]
  },
  {
   "cell_type": "code",
   "execution_count": 17,
   "metadata": {},
   "outputs": [
    {
     "name": "stdout",
     "output_type": "stream",
     "text": [
      "False\n"
     ]
    }
   ],
   "source": [
    "print(\"KaRIŞIK\".isupper())"
   ]
  },
  {
   "cell_type": "markdown",
   "metadata": {},
   "source": [
    "## join()"
   ]
  },
  {
   "cell_type": "code",
   "execution_count": 18,
   "metadata": {
    "collapsed": true
   },
   "outputs": [],
   "source": [
    "bolunmus = \"İstanbul Büyükşehir Belediyesi\".split()"
   ]
  },
  {
   "cell_type": "code",
   "execution_count": 20,
   "metadata": {},
   "outputs": [
    {
     "name": "stdout",
     "output_type": "stream",
     "text": [
      "İstanbul Büyükşehir Belediyesi\n"
     ]
    }
   ],
   "source": [
    "birleştirme_karakteri = \" \"\n",
    "string = birleştirme_karakteri.join(bolunmus)\n",
    "print(string)"
   ]
  },
  {
   "cell_type": "markdown",
   "metadata": {},
   "source": [
    "Görüldüğü gibi split ile ayırdığımız veya zaten ayrık olan sözcükleri join() metodu ile birleştirebiliyoruz."
   ]
  },
  {
   "cell_type": "markdown",
   "metadata": {},
   "source": [
    "## count()"
   ]
  },
  {
   "cell_type": "markdown",
   "metadata": {},
   "source": [
    "bir ifadenin string içerisinde kaç kez geçtiğini sorgular."
   ]
  },
  {
   "cell_type": "code",
   "execution_count": 21,
   "metadata": {},
   "outputs": [
    {
     "name": "stdout",
     "output_type": "stream",
     "text": [
      "3\n"
     ]
    }
   ],
   "source": [
    "print(\"deneme\".count(\"e\"))"
   ]
  },
  {
   "cell_type": "markdown",
   "metadata": {},
   "source": [
    "## index(), rindex()"
   ]
  },
  {
   "cell_type": "markdown",
   "metadata": {},
   "source": [
    "Bir ifadenin, karakter dizisi içerisinde geçen ilk konumunu döndürür. rindex() ise sağdan sola doğru okuyarak ilk karşılaşılan konumu döndürür."
   ]
  },
  {
   "cell_type": "code",
   "execution_count": 22,
   "metadata": {},
   "outputs": [
    {
     "name": "stdout",
     "output_type": "stream",
     "text": [
      "1\n",
      "5\n"
     ]
    }
   ],
   "source": [
    "print(\"deneme\".index(\"e\"))\n",
    "print(\"deneme.\".rindex(\"e\"))"
   ]
  },
  {
   "cell_type": "markdown",
   "metadata": {},
   "source": [
    "## find(), rfind()"
   ]
  },
  {
   "cell_type": "markdown",
   "metadata": {},
   "source": [
    "index() metotlarıyla tamamen aynı işi yapar fakat index() metotları, eğer string içerisinde aranan ifadeyi bulamazsa hata verir, find() metotları ise hata vermez."
   ]
  },
  {
   "cell_type": "code",
   "execution_count": 25,
   "metadata": {},
   "outputs": [
    {
     "ename": "ValueError",
     "evalue": "substring not found",
     "output_type": "error",
     "traceback": [
      "\u001b[0;31m---------------------------------------------------------------------------\u001b[0m",
      "\u001b[0;31mValueError\u001b[0m                                Traceback (most recent call last)",
      "\u001b[0;32m<ipython-input-25-36a4283b87e5>\u001b[0m in \u001b[0;36m<module>\u001b[0;34m()\u001b[0m\n\u001b[1;32m      1\u001b[0m \u001b[0mstring\u001b[0m \u001b[0;34m=\u001b[0m \u001b[0;34m\"deneme\"\u001b[0m\u001b[0;34m\u001b[0m\u001b[0m\n\u001b[0;32m----> 2\u001b[0;31m \u001b[0mprint\u001b[0m\u001b[0;34m(\u001b[0m\u001b[0mstring\u001b[0m\u001b[0;34m.\u001b[0m\u001b[0mindex\u001b[0m\u001b[0;34m(\u001b[0m\u001b[0;34m\"a\"\u001b[0m\u001b[0;34m)\u001b[0m\u001b[0;34m)\u001b[0m\u001b[0;34m\u001b[0m\u001b[0m\n\u001b[0m",
      "\u001b[0;31mValueError\u001b[0m: substring not found"
     ]
    }
   ],
   "source": [
    "string = \"deneme\"\n",
    "print(string.index(\"a\"))"
   ]
  },
  {
   "cell_type": "code",
   "execution_count": 26,
   "metadata": {},
   "outputs": [
    {
     "name": "stdout",
     "output_type": "stream",
     "text": [
      "-1\n"
     ]
    }
   ],
   "source": [
    "print(string.find(\"a\"))"
   ]
  },
  {
   "cell_type": "markdown",
   "metadata": {},
   "source": [
    "find() metotları bu gibi durumlarda hata yerine -1 değerini döndürür."
   ]
  },
  {
   "cell_type": "markdown",
   "metadata": {},
   "source": [
    "## isalpha()"
   ]
  },
  {
   "cell_type": "markdown",
   "metadata": {},
   "source": [
    "Bir string yalnızca alfabe karakterlerinden oluşuyorsa True döndürür."
   ]
  },
  {
   "cell_type": "code",
   "execution_count": 27,
   "metadata": {},
   "outputs": [
    {
     "name": "stdout",
     "output_type": "stream",
     "text": [
      "True\n"
     ]
    }
   ],
   "source": [
    "print(\"deneme\".isalpha())"
   ]
  },
  {
   "cell_type": "code",
   "execution_count": 28,
   "metadata": {},
   "outputs": [
    {
     "name": "stdout",
     "output_type": "stream",
     "text": [
      "False\n"
     ]
    }
   ],
   "source": [
    "print(\"dene3me\".isalpha())"
   ]
  },
  {
   "cell_type": "markdown",
   "metadata": {},
   "source": [
    "## isdigit()"
   ]
  },
  {
   "cell_type": "markdown",
   "metadata": {},
   "source": [
    "Bir string yalnızca sayısal ifade içeriyorsa True değeri döndürür."
   ]
  },
  {
   "cell_type": "code",
   "execution_count": 29,
   "metadata": {},
   "outputs": [
    {
     "name": "stdout",
     "output_type": "stream",
     "text": [
      "True\n"
     ]
    }
   ],
   "source": [
    "print(\"1234565\".isdigit())"
   ]
  },
  {
   "cell_type": "code",
   "execution_count": 30,
   "metadata": {},
   "outputs": [
    {
     "name": "stdout",
     "output_type": "stream",
     "text": [
      "False\n"
     ]
    }
   ],
   "source": [
    "print(\"12434223f\".isdigit())"
   ]
  }
 ],
 "metadata": {
  "kernelspec": {
   "display_name": "Python 3",
   "language": "python",
   "name": "python3"
  },
  "language_info": {
   "codemirror_mode": {
    "name": "ipython",
    "version": 3
   },
   "file_extension": ".py",
   "mimetype": "text/x-python",
   "name": "python",
   "nbconvert_exporter": "python",
   "pygments_lexer": "ipython3",
   "version": "3.5.3"
  }
 },
 "nbformat": 4,
 "nbformat_minor": 2
}
